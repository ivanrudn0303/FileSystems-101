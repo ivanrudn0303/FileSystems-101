{
  "nbformat": 4,
  "nbformat_minor": 0,
  "metadata": {
    "colab": {
      "name": "Untitled0.ipynb",
      "provenance": [],
      "collapsed_sections": [],
      "include_colab_link": true
    },
    "kernelspec": {
      "name": "python3",
      "display_name": "Python 3"
    }
  },
  "cells": [
    {
      "cell_type": "markdown",
      "metadata": {
        "id": "view-in-github",
        "colab_type": "text"
      },
      "source": [
        "<a href=\"https://colab.research.google.com/github/ivanrudn0303/FileSystems-101/blob/master/HW6/processed_data.ipynb\" target=\"_parent\"><img src=\"https://colab.research.google.com/assets/colab-badge.svg\" alt=\"Open In Colab\"/></a>"
      ]
    },
    {
      "cell_type": "code",
      "metadata": {
        "id": "AJVHSeLkxvDB",
        "colab_type": "code",
        "colab": {
          "base_uri": "https://localhost:8080/",
          "height": 391
        },
        "outputId": "53aa9879-d8b9-4ec8-8424-2dbfd2f94bb6"
      },
      "source": [
        "!wget https://raw.githubusercontent.com/ivanrudn0303/FileSystems-101/master/HW6/output1.txt\n",
        "!wget https://raw.githubusercontent.com/ivanrudn0303/FileSystems-101/master/HW6/output16.txt"
      ],
      "execution_count": 7,
      "outputs": [
        {
          "output_type": "stream",
          "text": [
            "--2019-12-10 20:12:20--  https://raw.githubusercontent.com/ivanrudn0303/FileSystems-101/master/HW6/output1.txt\n",
            "Resolving raw.githubusercontent.com (raw.githubusercontent.com)... 151.101.0.133, 151.101.64.133, 151.101.128.133, ...\n",
            "Connecting to raw.githubusercontent.com (raw.githubusercontent.com)|151.101.0.133|:443... connected.\n",
            "HTTP request sent, awaiting response... 200 OK\n",
            "Length: 20933 (20K) [text/plain]\n",
            "Saving to: ‘output1.txt.2’\n",
            "\n",
            "\routput1.txt.2         0%[                    ]       0  --.-KB/s               \routput1.txt.2       100%[===================>]  20.44K  --.-KB/s    in 0.004s  \n",
            "\n",
            "2019-12-10 20:12:20 (5.45 MB/s) - ‘output1.txt.2’ saved [20933/20933]\n",
            "\n",
            "--2019-12-10 20:12:21--  https://raw.githubusercontent.com/ivanrudn0303/FileSystems-101/master/HW6/output16.txt\n",
            "Resolving raw.githubusercontent.com (raw.githubusercontent.com)... 151.101.0.133, 151.101.64.133, 151.101.128.133, ...\n",
            "Connecting to raw.githubusercontent.com (raw.githubusercontent.com)|151.101.0.133|:443... connected.\n",
            "HTTP request sent, awaiting response... 200 OK\n",
            "Length: 24452 (24K) [text/plain]\n",
            "Saving to: ‘output16.txt’\n",
            "\n",
            "output16.txt        100%[===================>]  23.88K  --.-KB/s    in 0.004s  \n",
            "\n",
            "2019-12-10 20:12:22 (6.56 MB/s) - ‘output16.txt’ saved [24452/24452]\n",
            "\n"
          ],
          "name": "stdout"
        }
      ]
    },
    {
      "cell_type": "code",
      "metadata": {
        "id": "MCx7ntUgyKSt",
        "colab_type": "code",
        "colab": {}
      },
      "source": [
        "import matplotlib.pyplot as plt\n",
        "import numpy as np\n",
        "\n",
        "def f(filename):\n",
        "    with open(filename) as f:\n",
        "        content = f.readlines()\n",
        "    content = [float(x.strip()) / 1000000.0 for x in content]\n",
        "    plt.hist(content, color = 'blue', edgecolor = 'black',\n",
        "            bins = int(180/5), range = (0, 50))\n",
        "    plt.show()\n",
        "\n",
        "    p = np.percentile(content, 95)\n",
        "    m = np.mean(content)\n",
        "    d = np.std(content)\n",
        "    print(\"meam=\", m, \" 95percentile=\", p, \" std=\", d)\n"
      ],
      "execution_count": 0,
      "outputs": []
    },
    {
      "cell_type": "code",
      "metadata": {
        "id": "_RLW31cj1MXu",
        "colab_type": "code",
        "colab": {
          "base_uri": "https://localhost:8080/",
          "height": 547
        },
        "outputId": "704b4c4f-94d7-4483-a4ff-897e7b1d5b3d"
      },
      "source": [
        "f('output1.txt')\n",
        "f('output16.txt')"
      ],
      "execution_count": 18,
      "outputs": [
        {
          "output_type": "display_data",
          "data": {
            "image/png": "[encoded data removed]",
            "text/plain": [
              "<Figure size 432x288 with 1 Axes>"
            ]
          },
          "metadata": {
            "tags": []
          }
        },
        {
          "output_type": "stream",
          "text": [
            "meam= 0.5073854286666667  95percentile= 0.4869913999999995  std= 1.736445663372181\n"
          ],
          "name": "stdout"
        },
        {
          "output_type": "display_data",
          "data": {
            "image/png": "[encoded data removed]",
            "text/plain": [
              "<Figure size 432x288 with 1 Axes>"
            ]
          },
          "metadata": {
            "tags": []
          }
        },
        {
          "output_type": "stream",
          "text": [
            "meam= 8.940792227666666  95percentile= 26.7487477  std= 8.632657576150907\n"
          ],
          "name": "stdout"
        }
      ]
    }
  ]
}